{
 "cells": [
  {
   "cell_type": "code",
   "execution_count": 1,
   "metadata": {},
   "outputs": [],
   "source": [
    "import pandas as pd\n",
    "import numpy as np\n",
    "import math as m"
   ]
  },
  {
   "cell_type": "code",
   "execution_count": 2,
   "metadata": {},
   "outputs": [],
   "source": [
    "df=pd.read_csv('mushroom2.csv')\n",
    "N=df.iloc[:,1].size\n",
    "border=m.ceil(0.8*N)\n",
    "trGroup=df.iloc[0:border]\n",
    "coGroup=df.iloc[border:N]"
   ]
  },
  {
   "cell_type": "code",
   "execution_count": 3,
   "metadata": {},
   "outputs": [],
   "source": [
    "X=trGroup.iloc[:,1:4].to_numpy()\n",
    "for i in range(X[:,0].size):\n",
    "    if X[i,0]=='b':\n",
    "        X[i,0]=0\n",
    "    if X[i,0]=='c':\n",
    "        X[i,0]=1\n",
    "    if X[i,0]=='x':\n",
    "        X[i,0]=2\n",
    "    if X[i,0]=='f':\n",
    "        X[i,0]=3\n",
    "    if X[i,0]=='k':\n",
    "        X[i,0]=4\n",
    "    if X[i,0]=='s':\n",
    "        X[i,0]=5\n",
    "    #------------------\n",
    "    if X[i,1]=='f':\n",
    "        X[i,1]=0\n",
    "    if X[i,1]=='g':\n",
    "        X[i,1]=1\n",
    "    if X[i,1]=='y':\n",
    "        X[i,1]=2\n",
    "    if X[i,1]=='s':\n",
    "        X[i,1]=3\n",
    "    #------------------\n",
    "    if X[i,2]=='f':\n",
    "        X[i,2]=0\n",
    "    if X[i,2]=='t':\n",
    "        X[i,2]=1\n",
    "X=X.astype('int32')"
   ]
  },
  {
   "cell_type": "code",
   "execution_count": 4,
   "metadata": {},
   "outputs": [],
   "source": [
    "Y=trGroup.iloc[:,0].to_numpy()\n",
    "for i in range(Y.size):\n",
    "    if Y[i]=='e':\n",
    "        Y[i]=1\n",
    "    if Y[i]=='p':\n",
    "        Y[i]=2   \n",
    "Y=Y.astype('int32')"
   ]
  },
  {
   "cell_type": "code",
   "execution_count": 5,
   "metadata": {},
   "outputs": [],
   "source": [
    "n=0\n",
    "for i in range(Y.size):\n",
    "    if Y[i]==1:\n",
    "        n=n+1\n",
    "P1=n/Y.size\n",
    "P2=1-P1"
   ]
  },
  {
   "cell_type": "code",
   "execution_count": 6,
   "metadata": {},
   "outputs": [],
   "source": [
    "def P(Y,t,X,a):\n",
    "    n=0\n",
    "    c=0\n",
    "    for i in range(Y.size):\n",
    "        if Y[i]==t:\n",
    "            n=n+1\n",
    "            if X[i]==a :\n",
    "                c=c+1\n",
    "    return(c/n)"
   ]
  },
  {
   "cell_type": "code",
   "execution_count": 7,
   "metadata": {},
   "outputs": [],
   "source": [
    "P1x=np.array(3*6*[0.]).reshape(3,6)\n",
    "for i in range(3):\n",
    "    for j in range(6):\n",
    "        P1x[i,j]=P(Y,1,X[:,i],j)\n",
    "        if P1x[i,j]==0:\n",
    "            P1x[i,j]=0.0001\n",
    "P2x=np.array(3*6*[0.]).reshape(3,6)\n",
    "for i in range(3):\n",
    "    for j in range(6):\n",
    "        P2x[i,j]=P(Y,2,X[:,i],j)\n",
    "        if P2x[i,j]==0:\n",
    "            P2x[i,j]=0.0001"
   ]
  },
  {
   "cell_type": "code",
   "execution_count": 8,
   "metadata": {},
   "outputs": [],
   "source": [
    "def l0(P1x,P2x,X,P1,P2):\n",
    "    P1X=P1x[0,X[0]]*P1x[1,X[1]]*P1x[2,X[2]]\n",
    "    P2X=P2x[0,X[0]]*P2x[1,X[1]]*P2x[2,X[2]]\n",
    "    l=m.log(P1X/P2X)+m.log(P1/P2)\n",
    "    if l>0:\n",
    "        return(1)\n",
    "    else:\n",
    "        return(2)"
   ]
  },
  {
   "cell_type": "code",
   "execution_count": 9,
   "metadata": {},
   "outputs": [
    {
     "name": "stdout",
     "output_type": "stream",
     "text": [
      "mistakes=1569   24.138%\n"
     ]
    }
   ],
   "source": [
    "M=0\n",
    "for i in range(Y.size):\n",
    "    if Y[i]!=l0(P1x,P2x,X[i],P1,P2):\n",
    "        M=M+1\n",
    "print('mistakes=%d   %.3f%%'%(M,100*M/Y.size))"
   ]
  },
  {
   "cell_type": "code",
   "execution_count": 10,
   "metadata": {},
   "outputs": [],
   "source": [
    "X=coGroup.iloc[:,1:4].to_numpy()\n",
    "for i in range(X[:,0].size):\n",
    "    if X[i,0]=='b':\n",
    "        X[i,0]=0\n",
    "    if X[i,0]=='c':\n",
    "        X[i,0]=1\n",
    "    if X[i,0]=='x':\n",
    "        X[i,0]=2\n",
    "    if X[i,0]=='f':\n",
    "        X[i,0]=3\n",
    "    if X[i,0]=='k':\n",
    "        X[i,0]=4\n",
    "    if X[i,0]=='s':\n",
    "        X[i,0]=5\n",
    "    #------------------\n",
    "    if X[i,1]=='f':\n",
    "        X[i,1]=0\n",
    "    if X[i,1]=='g':\n",
    "        X[i,1]=1\n",
    "    if X[i,1]=='y':\n",
    "        X[i,1]=2\n",
    "    if X[i,1]=='s':\n",
    "        X[i,1]=3\n",
    "    #------------------\n",
    "    if X[i,2]=='f':\n",
    "        X[i,2]=0\n",
    "    if X[i,2]=='t':\n",
    "        X[i,2]=1\n",
    "X=X.astype('int32')"
   ]
  },
  {
   "cell_type": "code",
   "execution_count": 11,
   "metadata": {},
   "outputs": [],
   "source": [
    "Y=coGroup.iloc[:,0].to_numpy()\n",
    "for i in range(Y.size):\n",
    "    if Y[i]=='e':\n",
    "        Y[i]=1\n",
    "    if Y[i]=='p':\n",
    "        Y[i]=2   \n",
    "Y=Y.astype('int32')"
   ]
  },
  {
   "cell_type": "code",
   "execution_count": 12,
   "metadata": {},
   "outputs": [],
   "source": [
    "P1x=np.array(3*6*[0.]).reshape(3,6)\n",
    "for i in range(3):\n",
    "    for j in range(6):\n",
    "        P1x[i,j]=P(Y,1,X[:,i],j)\n",
    "        if P1x[i,j]==0:\n",
    "            P1x[i,j]=0.0001\n",
    "P2x=np.array(3*6*[0.]).reshape(3,6)\n",
    "for i in range(3):\n",
    "    for j in range(6):\n",
    "        P2x[i,j]=P(Y,2,X[:,i],j)\n",
    "        if P2x[i,j]==0:\n",
    "            P2x[i,j]=0.0001"
   ]
  },
  {
   "cell_type": "code",
   "execution_count": 13,
   "metadata": {},
   "outputs": [
    {
     "name": "stdout",
     "output_type": "stream",
     "text": [
      "mistakes=321   19.766%\n"
     ]
    }
   ],
   "source": [
    "M=0\n",
    "for i in range(Y.size):\n",
    "    if Y[i]!=l0(P1x,P2x,X[i],P1,P2):\n",
    "        M=M+1\n",
    "print('mistakes=%d   %.3f%%'%(M,100*M/Y.size))"
   ]
  }
 ],
 "metadata": {
  "kernelspec": {
   "display_name": "Python 3",
   "language": "python",
   "name": "python3"
  },
  "language_info": {
   "codemirror_mode": {
    "name": "ipython",
    "version": 3
   },
   "file_extension": ".py",
   "mimetype": "text/x-python",
   "name": "python",
   "nbconvert_exporter": "python",
   "pygments_lexer": "ipython3",
   "version": "3.7.4"
  }
 },
 "nbformat": 4,
 "nbformat_minor": 2
}
