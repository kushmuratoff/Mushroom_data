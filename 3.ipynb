{
 "cells": [
  {
   "cell_type": "code",
   "execution_count": 1,
   "metadata": {},
   "outputs": [],
   "source": [
    "import numpy as np\n",
    "import pandas as pd\n",
    "import math as m\n",
    "from sklearn.naive_bayes import GaussianNB"
   ]
  },
  {
   "cell_type": "code",
   "execution_count": 2,
   "metadata": {},
   "outputs": [],
   "source": [
    "df=pd.read_csv('mushroom2.csv')\n",
    "N=df.iloc[:,1].size\n",
    "border=m.ceil(0.8*N)\n",
    "trGroup=df.iloc[0:border]\n",
    "coGroup=df.iloc[border:N]"
   ]
  },
  {
   "cell_type": "code",
   "execution_count": 3,
   "metadata": {},
   "outputs": [],
   "source": [
    "X=trGroup.iloc[:,1:4].to_numpy()\n",
    "for i in range(X[:,0].size):\n",
    "    if X[i,0]=='b':\n",
    "        X[i,0]=1\n",
    "    if X[i,0]=='c':\n",
    "        X[i,0]=2\n",
    "    if X[i,0]=='x':\n",
    "        X[i,0]=3\n",
    "    if X[i,0]=='f':\n",
    "        X[i,0]=4\n",
    "    if X[i,0]=='k':\n",
    "        X[i,0]=5\n",
    "    if X[i,0]=='s':\n",
    "        X[i,0]=6\n",
    "    #------------------\n",
    "    if X[i,1]=='f':\n",
    "        X[i,1]=1\n",
    "    if X[i,1]=='g':\n",
    "        X[i,1]=2\n",
    "    if X[i,1]=='y':\n",
    "        X[i,1]=3\n",
    "    if X[i,1]=='s':\n",
    "        X[i,1]=4\n",
    "    #------------------\n",
    "    if X[i,2]=='f':\n",
    "        X[i,2]=1\n",
    "    if X[i,2]=='t':\n",
    "        X[i,2]=2\n",
    "X=X.astype('int32')"
   ]
  },
  {
   "cell_type": "code",
   "execution_count": 4,
   "metadata": {},
   "outputs": [
    {
     "name": "stdout",
     "output_type": "stream",
     "text": [
      "[[3 4 2]\n",
      " [3 4 2]\n",
      " [1 4 2]\n",
      " ...\n",
      " [4 4 1]\n",
      " [4 3 1]\n",
      " [4 4 1]]\n"
     ]
    }
   ],
   "source": [
    "print(X)"
   ]
  },
  {
   "cell_type": "code",
   "execution_count": 5,
   "metadata": {},
   "outputs": [],
   "source": [
    "Y=trGroup.iloc[:,0].to_numpy()\n",
    "for i in range(Y.size):\n",
    "    if Y[i]=='p':\n",
    "        Y[i]=0\n",
    "    if Y[i]=='e':\n",
    "        Y[i]=1\n",
    "Y=Y.astype('int32')"
   ]
  },
  {
   "cell_type": "code",
   "execution_count": 6,
   "metadata": {},
   "outputs": [
    {
     "data": {
      "text/plain": [
       "GaussianNB(priors=None, var_smoothing=1e-09)"
      ]
     },
     "execution_count": 6,
     "metadata": {},
     "output_type": "execute_result"
    }
   ],
   "source": [
    "clf = GaussianNB()\n",
    "clf.fit(X, Y)"
   ]
  },
  {
   "cell_type": "code",
   "execution_count": 7,
   "metadata": {},
   "outputs": [
    {
     "name": "stdout",
     "output_type": "stream",
     "text": [
      "mistakes= 1566    24.0923%\n"
     ]
    }
   ],
   "source": [
    "M=0\n",
    "for i in range(X[:,0].size):\n",
    "    if clf.predict([X[i]])!=Y[i]:\n",
    "        M=M+1\n",
    "print('mistakes=',M,'   %.4f%%'%(100*M/X[:,0].size))"
   ]
  },
  {
   "cell_type": "code",
   "execution_count": 8,
   "metadata": {},
   "outputs": [],
   "source": [
    "X=coGroup.iloc[:,1:4].to_numpy()\n",
    "for i in range(X[:,0].size):\n",
    "    if X[i,0]=='b':\n",
    "        X[i,0]=1\n",
    "    if X[i,0]=='c':\n",
    "        X[i,0]=2\n",
    "    if X[i,0]=='x':\n",
    "        X[i,0]=3\n",
    "    if X[i,0]=='f':\n",
    "        X[i,0]=4\n",
    "    if X[i,0]=='k':\n",
    "        X[i,0]=5\n",
    "    if X[i,0]=='s':\n",
    "        X[i,0]=6\n",
    "    #------------------\n",
    "    if X[i,1]=='f':\n",
    "        X[i,1]=1\n",
    "    if X[i,1]=='g':\n",
    "        X[i,1]=2\n",
    "    if X[i,1]=='y':\n",
    "        X[i,1]=3\n",
    "    if X[i,1]=='s':\n",
    "        X[i,1]=4\n",
    "    #------------------\n",
    "    if X[i,2]=='f':\n",
    "        X[i,2]=1\n",
    "    if X[i,2]=='t':\n",
    "        X[i,2]=2\n",
    "X=X.astype('int32')"
   ]
  },
  {
   "cell_type": "code",
   "execution_count": 9,
   "metadata": {},
   "outputs": [],
   "source": [
    "Y=coGroup.iloc[:,0].to_numpy()\n",
    "for i in range(Y.size):\n",
    "    if Y[i]=='p':\n",
    "        Y[i]=0\n",
    "    if Y[i]=='e':\n",
    "        Y[i]=1\n",
    "Y=Y.astype('int32')"
   ]
  },
  {
   "cell_type": "code",
   "execution_count": 10,
   "metadata": {},
   "outputs": [
    {
     "name": "stdout",
     "output_type": "stream",
     "text": [
      "mistakes= 294    18.1034%\n"
     ]
    }
   ],
   "source": [
    "M=0\n",
    "for i in range(X[:,0].size):\n",
    "    if clf.predict([X[i]])!=Y[i]:\n",
    "        M=M+1\n",
    "print('mistakes=',M,'   %.4f%%'%(100*M/X[:,0].size))"
   ]
  }
 ],
 "metadata": {
  "kernelspec": {
   "display_name": "Python 3",
   "language": "python",
   "name": "python3"
  },
  "language_info": {
   "codemirror_mode": {
    "name": "ipython",
    "version": 3
   },
   "file_extension": ".py",
   "mimetype": "text/x-python",
   "name": "python",
   "nbconvert_exporter": "python",
   "pygments_lexer": "ipython3",
   "version": "3.7.4"
  }
 },
 "nbformat": 4,
 "nbformat_minor": 2
}
