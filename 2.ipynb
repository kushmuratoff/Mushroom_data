{
 "cells": [
  {
   "cell_type": "code",
   "execution_count": 1,
   "metadata": {},
   "outputs": [],
   "source": [
    "import pandas as pd\n",
    "import math as m"
   ]
  },
  {
   "cell_type": "code",
   "execution_count": 2,
   "metadata": {},
   "outputs": [],
   "source": [
    "df=pd.read_csv('mushroom2.csv')\n",
    "N=df.iloc[:,1].size\n",
    "border=m.ceil(0.8*N)\n",
    "trGroup=df.iloc[0:border]\n",
    "coGroup=df.iloc[border:N]"
   ]
  },
  {
   "cell_type": "code",
   "execution_count": 3,
   "metadata": {},
   "outputs": [],
   "source": [
    "n1=0\n",
    "n2=0\n",
    "b1=0\n",
    "b2=0\n",
    "c1=0\n",
    "c2=0\n",
    "x1=0\n",
    "x2=0\n",
    "f1=0\n",
    "f2=0\n",
    "k1=0\n",
    "k2=0\n",
    "s1=0\n",
    "s2=0\n",
    "for i in range(border):\n",
    "    if trGroup.iloc[i,0]=='e':\n",
    "        n1=n1+1\n",
    "        if trGroup.iloc[i,1]=='b':\n",
    "            b1=b1+1\n",
    "        if trGroup.iloc[i,1]=='c':\n",
    "            c1=c1+1\n",
    "        if trGroup.iloc[i,1]=='x':\n",
    "            x1=x1+1\n",
    "        if trGroup.iloc[i,1]=='f':\n",
    "            f1=f1+1\n",
    "        if trGroup.iloc[i,1]=='k':\n",
    "            k1=k1+1\n",
    "        if trGroup.iloc[i,1]=='s':\n",
    "            s1=s1+1\n",
    "    else:\n",
    "        n2=n2+1\n",
    "        if trGroup.iloc[i,1]=='b':\n",
    "            b2=b2+1\n",
    "        if trGroup.iloc[i,1]=='c':\n",
    "            c2=c2+1\n",
    "        if trGroup.iloc[i,1]=='x':\n",
    "            x2=x2+1\n",
    "        if trGroup.iloc[i,1]=='f':\n",
    "            f2=f2+1\n",
    "        if trGroup.iloc[i,1]=='k':\n",
    "            k2=k2+1\n",
    "        if trGroup.iloc[i,1]=='s':\n",
    "            s2=s2+1"
   ]
  },
  {
   "cell_type": "code",
   "execution_count": 4,
   "metadata": {},
   "outputs": [],
   "source": [
    "P1=n1/(n1+n2)\n",
    "P2=n2/(n1+n2)\n",
    "P1b=b1/n1\n",
    "P2b=b2/n2\n",
    "P1c=c1/n1\n",
    "P2c=c2/n2\n",
    "P1x=x1/n1\n",
    "P2x=x2/n2\n",
    "P1f=f1/n1\n",
    "P2f=f2/n2\n",
    "P1k=k1/n1\n",
    "P2k=k2/n2\n",
    "P1s=s1/n1\n",
    "P2s=s2/n2"
   ]
  },
  {
   "cell_type": "code",
   "execution_count": 5,
   "metadata": {},
   "outputs": [],
   "source": [
    "def l0(P1,P2,P1X,P2X):\n",
    "    return(m.log(P1X/P2X)+m.log(P1/P2))"
   ]
  },
  {
   "cell_type": "code",
   "execution_count": 6,
   "metadata": {},
   "outputs": [
    {
     "name": "stdout",
     "output_type": "stream",
     "text": [
      "1.7435126356886692 >0\n",
      "shape b= bell\n",
      "edible with chance of poisoning 1.6434%\n"
     ]
    }
   ],
   "source": [
    "print(l0(P1,P2,P1b,P2b),'>0')\n",
    "print('shape b= bell')\n",
    "print('edible with chance of poisoning %.4f%%'%(100*P2b))"
   ]
  },
  {
   "cell_type": "code",
   "execution_count": 7,
   "metadata": {},
   "outputs": [
    {
     "name": "stdout",
     "output_type": "stream",
     "text": [
      "-3.9897143131440176 <0\n",
      "shape c= conical\n",
      "poisonous with chance to be edible 0.0000%\n"
     ]
    }
   ],
   "source": [
    "print(l0(P1,P2,0.00001,P2c),'<0')\n",
    "print('shape c= conical')\n",
    "print('poisonous with chance to be edible %.4f%%'%(100*P1c))"
   ]
  },
  {
   "cell_type": "code",
   "execution_count": 8,
   "metadata": {},
   "outputs": [
    {
     "name": "stdout",
     "output_type": "stream",
     "text": [
      "0.1934383969002939 >0\n",
      "shape x=convex\n",
      "edible with chance of poisoning 52.7331%\n"
     ]
    }
   ],
   "source": [
    "print(l0(P1,P2,P1x,P2x),'>0')\n",
    "print('shape x=convex')\n",
    "print('edible with chance of poisoning %.4f%%'%(100*P2x))"
   ]
  },
  {
   "cell_type": "code",
   "execution_count": 9,
   "metadata": {},
   "outputs": [
    {
     "name": "stdout",
     "output_type": "stream",
     "text": [
      "0.21775886016043097 >0\n",
      "shape f= flat\n",
      "edible with chance of poisoning 43.9085%\n"
     ]
    }
   ],
   "source": [
    "print(l0(P1,P2,P1f,P2f),'>0')\n",
    "print('shape f= flat')\n",
    "print('edible with chance of poisoning %.4f%%'%(100*P2f))"
   ]
  },
  {
   "cell_type": "code",
   "execution_count": 10,
   "metadata": {},
   "outputs": [
    {
     "name": "stdout",
     "output_type": "stream",
     "text": [
      "-7.125208529073167 <0\n",
      "shape k= knobbed\n",
      "poisonous with chance to be edible 41.2861%\n"
     ]
    }
   ],
   "source": [
    "print(l0(P1,P2,0.00001,P2k),'<0')\n",
    "print('shape k= knobbed')\n",
    "print('poisonous with chance to be edible %.4f%%'%(100*P1f))"
   ]
  },
  {
   "cell_type": "code",
   "execution_count": 11,
   "metadata": {},
   "outputs": [
    {
     "name": "stdout",
     "output_type": "stream",
     "text": [
      "7.041643878254502 >0\n",
      "shape s= sunken\n",
      "edible with chance of poisoning 0.0000%\n"
     ]
    }
   ],
   "source": [
    "print(l0(P1,P2,P1s,0.00001),'>0')\n",
    "print('shape s= sunken')\n",
    "print('edible with chance of poisoning %.4f%%'%(100*P2s))"
   ]
  },
  {
   "cell_type": "code",
   "execution_count": 12,
   "metadata": {},
   "outputs": [],
   "source": [
    "# testing the control group\n",
    "M=0\n",
    "for i in range(N-border):\n",
    "    if coGroup.iloc[i,1]=='b':\n",
    "        if coGroup.iloc[i,0]=='p':\n",
    "            M=M+1\n",
    "    if coGroup.iloc[i,1]=='c':\n",
    "        if coGroup.iloc[i,0]=='e':\n",
    "            M=M+1\n",
    "    if coGroup.iloc[i,1]=='x':\n",
    "        if coGroup.iloc[i,0]=='p':\n",
    "            M=M+1\n",
    "    if coGroup.iloc[i,1]=='f':\n",
    "        if coGroup.iloc[i,0]=='p':\n",
    "            M=M+1\n",
    "    if coGroup.iloc[i,1]=='k':\n",
    "        if coGroup.iloc[i,0]=='e':\n",
    "            M=M+1\n",
    "    if coGroup.iloc[i,1]=='s':\n",
    "        if coGroup.iloc[i,0]=='p':\n",
    "            M=M+1"
   ]
  },
  {
   "cell_type": "code",
   "execution_count": 13,
   "metadata": {},
   "outputs": [
    {
     "name": "stdout",
     "output_type": "stream",
     "text": [
      "mistakes= 702    43.2266%\n"
     ]
    }
   ],
   "source": [
    "print('mistakes=',M,'   %.4f%%'%(100*M/(N-border)))"
   ]
  },
  {
   "cell_type": "code",
   "execution_count": 14,
   "metadata": {},
   "outputs": [
    {
     "data": {
      "text/plain": [
       "0.07106187516887327"
      ]
     },
     "execution_count": 14,
     "metadata": {},
     "output_type": "execute_result"
    }
   ],
   "source": [
    "P1b"
   ]
  },
  {
   "cell_type": "code",
   "execution_count": null,
   "metadata": {},
   "outputs": [],
   "source": []
  }
 ],
 "metadata": {
  "kernelspec": {
   "display_name": "Python 3",
   "language": "python",
   "name": "python3"
  },
  "language_info": {
   "codemirror_mode": {
    "name": "ipython",
    "version": 3
   },
   "file_extension": ".py",
   "mimetype": "text/x-python",
   "name": "python",
   "nbconvert_exporter": "python",
   "pygments_lexer": "ipython3",
   "version": "3.7.4"
  }
 },
 "nbformat": 4,
 "nbformat_minor": 2
}
